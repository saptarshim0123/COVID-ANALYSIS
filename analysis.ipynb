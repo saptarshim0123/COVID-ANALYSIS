{
 "cells": [
  {
   "cell_type": "markdown",
   "id": "ee0dbe88",
   "metadata": {},
   "source": [
    "### **COVID-19 Data Analysis**\n",
    "#### A Country-wise Data Analysis of the COVID-19 Pandemic"
   ]
  },
  {
   "cell_type": "markdown",
   "id": "d0ea05b2",
   "metadata": {},
   "source": [
    "##### **Step 1:** Importing the necessary libraries"
   ]
  },
  {
   "cell_type": "code",
   "execution_count": 4,
   "id": "85f2b7f6",
   "metadata": {},
   "outputs": [],
   "source": [
    "import numpy as np\n",
    "import pandas as pd\n",
    "import seaborn as sns\n",
    "import matplotlib.pyplot as plt"
   ]
  },
  {
   "cell_type": "markdown",
   "id": "3f84c1dc",
   "metadata": {},
   "source": [
    "##### **Step 2:** Loading the Data"
   ]
  },
  {
   "cell_type": "code",
   "execution_count": 24,
   "id": "66ab15a3",
   "metadata": {},
   "outputs": [],
   "source": [
    "df_raw = pd.read_csv(filepath_or_buffer=\"./data/country_wise_latest.csv\")"
   ]
  },
  {
   "cell_type": "markdown",
   "id": "746508f8",
   "metadata": {},
   "source": [
    "##### **Step 3:** Exploring the Data"
   ]
  },
  {
   "cell_type": "markdown",
   "id": "1887a53d",
   "metadata": {},
   "source": [
    "##### **3.1:** Overview of Data"
   ]
  },
  {
   "cell_type": "code",
   "execution_count": 38,
   "id": "a42cc071",
   "metadata": {},
   "outputs": [
    {
     "name": "stdout",
     "output_type": "stream",
     "text": [
      "Dataset Shape: (187, 15)\n",
      "\n",
      "Column Names:\n",
      " <bound method IndexOpsMixin.tolist of Index(['Country/Region', 'Confirmed', 'Deaths', 'Recovered', 'Active',\n",
      "       'New cases', 'New deaths', 'New recovered', 'Deaths / 100 Cases',\n",
      "       'Recovered / 100 Cases', 'Deaths / 100 Recovered',\n",
      "       'Confirmed last week', '1 week change', '1 week % increase',\n",
      "       'WHO Region'],\n",
      "      dtype='object')>\n",
      "\n",
      "Data Types:\n",
      " Country/Region             object\n",
      "Confirmed                   int64\n",
      "Deaths                      int64\n",
      "Recovered                   int64\n",
      "Active                      int64\n",
      "New cases                   int64\n",
      "New deaths                  int64\n",
      "New recovered               int64\n",
      "Deaths / 100 Cases        float64\n",
      "Recovered / 100 Cases     float64\n",
      "Deaths / 100 Recovered    float64\n",
      "Confirmed last week         int64\n",
      "1 week change               int64\n",
      "1 week % increase         float64\n",
      "WHO Region                 object\n",
      "dtype: object\n"
     ]
    }
   ],
   "source": [
    "# Overview of data\n",
    "print(\"Dataset Shape:\", df_raw.shape)\n",
    "print(\"\\nColumn Names:\\n\", df_raw.columns.to_list)\n",
    "print(\"\\nData Types:\\n\", df_raw.dtypes)"
   ]
  },
  {
   "cell_type": "markdown",
   "id": "d14746dd",
   "metadata": {},
   "source": [
    "##### **3.2:** Quick Peek of Data"
   ]
  },
  {
   "cell_type": "code",
   "execution_count": 46,
   "id": "b2064adb",
   "metadata": {},
   "outputs": [
    {
     "name": "stdout",
     "output_type": "stream",
     "text": [
      "First 5 rows:\n",
      "  Country/Region  Confirmed  Deaths  Recovered  Active  New cases  New deaths  \\\n",
      "0    Afghanistan      36263    1269      25198    9796        106          10   \n",
      "1        Albania       4880     144       2745    1991        117           6   \n",
      "2        Algeria      27973    1163      18837    7973        616           8   \n",
      "3        Andorra        907      52        803      52         10           0   \n",
      "4         Angola        950      41        242     667         18           1   \n",
      "\n",
      "   New recovered  Deaths / 100 Cases  Recovered / 100 Cases  \\\n",
      "0             18                3.50                  69.49   \n",
      "1             63                2.95                  56.25   \n",
      "2            749                4.16                  67.34   \n",
      "3              0                5.73                  88.53   \n",
      "4              0                4.32                  25.47   \n",
      "\n",
      "   Deaths / 100 Recovered  Confirmed last week  1 week change  \\\n",
      "0                    5.04                35526            737   \n",
      "1                    5.25                 4171            709   \n",
      "2                    6.17                23691           4282   \n",
      "3                    6.48                  884             23   \n",
      "4                   16.94                  749            201   \n",
      "\n",
      "   1 week % increase             WHO Region  \n",
      "0               2.07  Eastern Mediterranean  \n",
      "1              17.00                 Europe  \n",
      "2              18.07                 Africa  \n",
      "3               2.60                 Europe  \n",
      "4              26.84                 Africa  \n",
      "\n",
      "Last 5 rows:\n",
      "         Country/Region  Confirmed  Deaths  Recovered  Active  New cases  \\\n",
      "182  West Bank and Gaza      10621      78       3752    6791        152   \n",
      "183      Western Sahara         10       1          8       1          0   \n",
      "184               Yemen       1691     483        833     375         10   \n",
      "185              Zambia       4552     140       2815    1597         71   \n",
      "186            Zimbabwe       2704      36        542    2126        192   \n",
      "\n",
      "     New deaths  New recovered  Deaths / 100 Cases  Recovered / 100 Cases  \\\n",
      "182           2              0                0.73                  35.33   \n",
      "183           0              0               10.00                  80.00   \n",
      "184           4             36               28.56                  49.26   \n",
      "185           1            465                3.08                  61.84   \n",
      "186           2             24                1.33                  20.04   \n",
      "\n",
      "     Deaths / 100 Recovered  Confirmed last week  1 week change  \\\n",
      "182                    2.08                 8916           1705   \n",
      "183                   12.50                   10              0   \n",
      "184                   57.98                 1619             72   \n",
      "185                    4.97                 3326           1226   \n",
      "186                    6.64                 1713            991   \n",
      "\n",
      "     1 week % increase             WHO Region  \n",
      "182              19.12  Eastern Mediterranean  \n",
      "183               0.00                 Africa  \n",
      "184               4.45  Eastern Mediterranean  \n",
      "185              36.86                 Africa  \n",
      "186              57.85                 Africa  \n",
      "\n",
      "Random 5 rows:\n",
      "    Country/Region  Confirmed  Deaths  Recovered  Active  New cases  \\\n",
      "71          Guinea       7055      45       6257     753         47   \n",
      "23          Brazil    2442375   87618    1846641  508116      23284   \n",
      "181        Vietnam        431       0        365      66         11   \n",
      "155    South Korea      14203     300      13007     896         28   \n",
      "141    Saint Lucia         24       0         22       2          0   \n",
      "\n",
      "     New deaths  New recovered  Deaths / 100 Cases  Recovered / 100 Cases  \\\n",
      "71            2            105                0.64                  88.69   \n",
      "23          614          33728                3.59                  75.61   \n",
      "181           0              0                0.00                  84.69   \n",
      "155           1            102                2.11                  91.58   \n",
      "141           0              0                0.00                  91.67   \n",
      "\n",
      "     Deaths / 100 Recovered  Confirmed last week  1 week change  \\\n",
      "71                     0.72                 6590            465   \n",
      "23                     4.74              2118646         323729   \n",
      "181                    0.00                  384             47   \n",
      "155                    2.31                13816            387   \n",
      "141                    0.00                   23              1   \n",
      "\n",
      "     1 week % increase       WHO Region  \n",
      "71                7.06           Africa  \n",
      "23               15.28         Americas  \n",
      "181              12.24  Western Pacific  \n",
      "155               2.80  Western Pacific  \n",
      "141               4.35         Americas  \n"
     ]
    }
   ],
   "source": [
    "# First and last few rows\n",
    "print(\"First 5 rows:\")\n",
    "print(df_raw.head())\n",
    "\n",
    "print(\"\\nLast 5 rows:\")\n",
    "print(df_raw.tail())\n",
    "\n",
    "print(\"\\nRandom 5 rows:\")\n",
    "print(df_raw.sample(5))"
   ]
  },
  {
   "cell_type": "markdown",
   "id": "be6f46b9",
   "metadata": {},
   "source": [
    "##### **3.3:** Quality Check of Data"
   ]
  },
  {
   "cell_type": "code",
   "execution_count": 48,
   "id": "947af281",
   "metadata": {},
   "outputs": [
    {
     "name": "stdout",
     "output_type": "stream",
     "text": [
      "Missing values per column:\n",
      "Series([], dtype: int64)\n",
      "\n",
      "Missing value percentages:\n",
      "Series([], dtype: float64)\n"
     ]
    }
   ],
   "source": [
    "# Checking for missing values\n",
    "\n",
    "print(\"Missing values per column:\")\n",
    "missing = df_raw.isna().sum()\n",
    "print(missing[missing > 0])\n",
    "\n",
    "print(\"\\nMissing value percentages:\")\n",
    "missing_percentage = (df_raw.isna().sum() / len(df_raw)) * 100\n",
    "print(missing_percentage[missing_percentage > 0])"
   ]
  }
 ],
 "metadata": {
  "kernelspec": {
   "display_name": "venv",
   "language": "python",
   "name": "python3"
  },
  "language_info": {
   "codemirror_mode": {
    "name": "ipython",
    "version": 3
   },
   "file_extension": ".py",
   "mimetype": "text/x-python",
   "name": "python",
   "nbconvert_exporter": "python",
   "pygments_lexer": "ipython3",
   "version": "3.13.5"
  }
 },
 "nbformat": 4,
 "nbformat_minor": 5
}
